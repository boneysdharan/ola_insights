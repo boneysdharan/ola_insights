{
 "cells": [
  {
   "cell_type": "code",
   "execution_count": null,
   "id": "19dfafea",
   "metadata": {},
   "outputs": [],
   "source": [
    "import pandas as pd\n",
    "path = r\"D:\\BONEYS\\WEB\\PYTHON\\Project\\Ola_Ride_Insights\\OLA_DataSet.xlsx\"\n",
    "data = pd.read_excel(path)\n",
    "df = pd.DataFrame(data)\n",
    "df"
   ]
  },
  {
   "cell_type": "code",
   "execution_count": null,
   "id": "3438e70f",
   "metadata": {},
   "outputs": [],
   "source": [
    "df.info()"
   ]
  },
  {
   "cell_type": "code",
   "execution_count": null,
   "id": "875f1796",
   "metadata": {},
   "outputs": [],
   "source": [
    "df.isna().sum()"
   ]
  },
  {
   "cell_type": "code",
   "execution_count": null,
   "id": "2eac50eb",
   "metadata": {},
   "outputs": [],
   "source": [
    "#filling null values\n",
    "df = df.bfill()\n",
    "df = df.ffill()\n",
    "#doing label encoding and pd.dummy\n",
    "from sklearn.preprocessing import LabelEncoder\n",
    "encoder_columns = ['Booking_Status','Incomplete_Rides','Ride_Distance','Driver_Ratings','Customer_Rating','Date','Time',\n",
    "                   'Booking_ID','Customer_ID','Pickup_Location','Drop_Location',]\n",
    "dummy_columns = ['Vehicle_Type','Canceled_Rides_by_Customer','Canceled_Rides_by_Driver','Incomplete_Rides_Reason','Payment_Method']\n",
    "encoder = LabelEncoder()\n",
    "for i in encoder_columns:\n",
    "    df[f'encoded_{i}'] = encoder.fit_transform(df[f'{i}'])\n",
    "df = pd.get_dummies(df,columns=dummy_columns,dtype=int)\n",
    "#removing outliners\n",
    "df['Booking_Value_normalized'] = (df['Booking_Value']-df['Booking_Value'].mean())/df['Booking_Value'].std()\n",
    "df['C_TAT_normalized'] = (df['C_TAT']-df['C_TAT'].mean())/df['C_TAT'].std()\n",
    "df['V_TAT_normalized'] = (df['V_TAT']-df['V_TAT'].mean())/df['V_TAT'].std()\n",
    "condition1 = df['Booking_Value_normalized']<=3\n",
    "condition2 = df['Booking_Value_normalized']>=-3\n",
    "condition3 = df['C_TAT_normalized']<=3\n",
    "condition4 = df['C_TAT_normalized']>=-3\n",
    "condition5 = df['V_TAT_normalized']<=3\n",
    "condition6 = df['V_TAT_normalized']>=-3\n",
    "df = df[(condition1 & condition2 & condition3 & condition4 & condition5 & condition6 )]\n",
    "print(df)"
   ]
  },
  {
   "cell_type": "code",
   "execution_count": null,
   "id": "7d741613",
   "metadata": {},
   "outputs": [],
   "source": [
    "#storing above data in mysql\n",
    "import mysql.connector\n",
    "connection = mysql.connector.connect(\n",
    "    host=\"localhost\",\n",
    "    username = \"xxx\", #give your username\n",
    "    password = \"xxx\", #give your password\n",
    "    database = \"xxx\" #give database name which you want to use\n",
    ")\n",
    "cursor=connection.cursor()"
   ]
  },
  {
   "cell_type": "code",
   "execution_count": 21,
   "id": "5e265e19",
   "metadata": {},
   "outputs": [],
   "source": [
    "query1 = \"\"\"\n",
    "    create table Ola(\n",
    "    Date date,\n",
    "    Time time,\n",
    "    Booking_ID varchar(20),\n",
    "    Booking_Status varchar(500),\n",
    "    Customer_ID varchar(20),\n",
    "    Vehicle_Type varchar(20),\n",
    "    Pickup_Location varchar(50),\n",
    "    Drop_Location varchar(50),\n",
    "    C_TAT float,\n",
    "    V_TAT float,\n",
    "    Canceled_Rides_by_Customer varchar(100),\n",
    "    Canceled_Rides_by_Driver  varchar(100),\n",
    "    Incomplete_Rides varchar(6),\n",
    "    Incomplete_Rides_Reason varchar(100),\n",
    "    Booking_Value int,\n",
    "    Payment_Method varchar(20),               \n",
    "    Ride_Distance int,                 \n",
    "    Driver_Ratings float,               \n",
    "    Customer_Rating float\n",
    ")\n",
    "\"\"\"\n",
    "cursor.execute(query1)"
   ]
  },
  {
   "cell_type": "code",
   "execution_count": 22,
   "id": "7c55d4a8",
   "metadata": {},
   "outputs": [],
   "source": [
    "data = []\n",
    "for index in df.index:\n",
    "    row = df.loc[index]\n",
    "    row = row.values\n",
    "    row = row[0],row[1],row[2],row[3],row[4],row[5],row[6],row[7],float(row[8]),float(row[9]),row[10],row[11],row[12],row[13],int(row[14]),row[15],int(row[16]),float(row[17]),float(row[18])\n",
    "    data.append(row)\n",
    "query2 = \"insert into Ola values (%s,%s,%s,%s,%s,%s,%s,%s,%s,%s,%s,%s,%s,%s,%s,%s,%s,%s,%s)\"\n",
    "cursor.executemany(query2,data)\n",
    "connection.commit()"
   ]
  },
  {
   "cell_type": "code",
   "execution_count": null,
   "id": "81e06832",
   "metadata": {},
   "outputs": [],
   "source": [
    "#1 retreive all successful bookings\n",
    "query3 = \"select * from ola where Booking_Status = 'Success'\"\n",
    "cursor.execute(query3)\n",
    "for i in cursor:\n",
    "    print(i)"
   ]
  },
  {
   "cell_type": "code",
   "execution_count": null,
   "id": "203e12b0",
   "metadata": {},
   "outputs": [],
   "source": [
    "#2. Find the average ride distance for each vehicle type:\n",
    "query4 = \"select avg(Ride_Distance) as average_ride_distance, Vehicle_Type from ola group by Vehicle_Type\"\n",
    "cursor.execute(query4)\n",
    "for i in cursor:\n",
    "    print(i)"
   ]
  },
  {
   "cell_type": "code",
   "execution_count": null,
   "id": "36bc7247",
   "metadata": {},
   "outputs": [],
   "source": [
    "#3. Get the total number of cancelled rides by customers:\n",
    "query5 = \"select count(Canceled_Rides_by_Customer) as total_rides_cancelled from ola\"\n",
    "cursor.execute(query5)\n",
    "for i in cursor:\n",
    "    print(i)"
   ]
  },
  {
   "cell_type": "code",
   "execution_count": null,
   "id": "34992aa2",
   "metadata": {},
   "outputs": [],
   "source": [
    "#4 List the top 5 customers who booked the highest number of rides\n",
    "query6 = \"select Customer_ID, count(Booking_ID) as Total_Booking from ola group by Customer_ID order by Total_Booking desc limit 5\"\n",
    "cursor.execute(query6)\n",
    "for i in cursor:\n",
    "    print(i)"
   ]
  },
  {
   "cell_type": "code",
   "execution_count": null,
   "id": "d8cc2c8e",
   "metadata": {},
   "outputs": [],
   "source": [
    "#5. Get the number of rides cancelled by drivers due to personal and car-related issues:\n",
    "query7 = \"select count(Canceled_Rides_by_Driver) as no_of_rides_cancelled_by_driver from ola where Canceled_Rides_by_Driver = 'Personal & Car related issue'\"\n",
    "cursor.execute(query7)\n",
    "for i in cursor:\n",
    "    print(i)"
   ]
  },
  {
   "cell_type": "code",
   "execution_count": null,
   "id": "3791c415",
   "metadata": {},
   "outputs": [],
   "source": [
    "#6. Find the maximum and minimum driver ratings for Prime Sedan bookings:\n",
    "query8 = \"select max(Driver_Ratings),min(Driver_Ratings),Vehicle_Type from ola where Vehicle_Type='Prime Sedan'\"\n",
    "cursor.execute(query8)\n",
    "for i in cursor:\n",
    "    print(i)"
   ]
  },
  {
   "cell_type": "code",
   "execution_count": null,
   "id": "7fc43f24",
   "metadata": {},
   "outputs": [],
   "source": [
    "#7. Retrieve all rides where payment was made using UPI:\n",
    "query9 = \"select Booking_ID,Customer_ID,Pickup_Location,Drop_Location,Date,Time,Booking_Value,Ride_Distance,Payment_Method from ola where Payment_Method='UPI'\"\n",
    "cursor.execute(query9)\n",
    "for i in cursor:\n",
    "    print(i)"
   ]
  },
  {
   "cell_type": "code",
   "execution_count": null,
   "id": "f4d6b518",
   "metadata": {},
   "outputs": [],
   "source": [
    "#8. Find the average customer rating per vehicle type:\n",
    "query10 = \"select avg(Customer_Rating) as Average_Customer_Rating, Vehicle_Type from ola group by Vehicle_Type\"\n",
    "cursor.execute(query10)\n",
    "for i in cursor:\n",
    "    print(i)"
   ]
  },
  {
   "cell_type": "code",
   "execution_count": null,
   "id": "45ccba52",
   "metadata": {},
   "outputs": [],
   "source": [
    "#9. Calculate the total booking value of rides completed successfully:\n",
    "query11 = \"select sum(Booking_Value) as Total_Booking_Value,Booking_Status from ola where Booking_Status = 'Success'\"\n",
    "cursor.execute(query11)\n",
    "for i in cursor:\n",
    "    print(i)"
   ]
  },
  {
   "cell_type": "code",
   "execution_count": null,
   "id": "eb64f558",
   "metadata": {},
   "outputs": [],
   "source": [
    "#10. List all incomplete rides along with the reason\n",
    "query12 = \"select Booking_ID,Customer_ID,Vehicle_Type,Pickup_Location,Drop_Location,Incomplete_Rides,Incomplete_Rides_Reason from ola where Incomplete_Rides='Yes'\"\n",
    "cursor.execute(query12)\n",
    "for i in cursor:\n",
    "    print(i)"
   ]
  },
  {
   "cell_type": "code",
   "execution_count": 13,
   "id": "e61b0715",
   "metadata": {},
   "outputs": [],
   "source": [
    "#exporting to excel sheet\n",
    "df.to_excel('ola_cleaned.xlsx', index=False)"
   ]
  },
  {
   "cell_type": "code",
   "execution_count": 6,
   "id": "113263a0",
   "metadata": {},
   "outputs": [],
   "source": [
    "#exporting to .csv\n",
    "df.to_csv('ola_cleaned.csv', index=False)"
   ]
  },
  {
   "cell_type": "code",
   "execution_count": null,
   "id": "0b9ccc9d",
   "metadata": {},
   "outputs": [],
   "source": []
  }
 ],
 "metadata": {
  "kernelspec": {
   "display_name": "Python 3",
   "language": "python",
   "name": "python3"
  },
  "language_info": {
   "codemirror_mode": {
    "name": "ipython",
    "version": 3
   },
   "file_extension": ".py",
   "mimetype": "text/x-python",
   "name": "python",
   "nbconvert_exporter": "python",
   "pygments_lexer": "ipython3",
   "version": "3.13.3"
  }
 },
 "nbformat": 4,
 "nbformat_minor": 5
}
